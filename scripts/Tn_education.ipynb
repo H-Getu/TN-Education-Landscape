{
 "cells": [
  {
   "cell_type": "code",
   "execution_count": 84,
   "id": "6b1521de-5f2d-485c-8f50-305c52194398",
   "metadata": {},
   "outputs": [],
   "source": [
    "import numpy as np\n",
    "import pandas as pd\n",
    "import matplotlib.pyplot as plt\n",
    "import seaborn as sns\n",
    "import re"
   ]
  },
  {
   "cell_type": "code",
   "execution_count": 86,
   "id": "7aa6b847-2a30-4e0e-a9a4-2fe3635a15d0",
   "metadata": {},
   "outputs": [],
   "source": [
    "#pip install pandas openpyxl"
   ]
  },
  {
   "cell_type": "markdown",
   "id": "e0c0ab4f-9923-4111-af15-0c4b1d5a7e0b",
   "metadata": {},
   "source": [
    "# import and prep accountability indicators data"
   ]
  },
  {
   "cell_type": "markdown",
   "id": "31bfe25c-fae8-4c13-b85e-a59e67a86cd0",
   "metadata": {},
   "source": [
    "## accountability indicators  Scores"
   ]
  },
  {
   "cell_type": "code",
   "execution_count": 89,
   "id": "36481c14-4e17-43bc-9c04-f6b384325545",
   "metadata": {},
   "outputs": [
    {
     "name": "stdout",
     "output_type": "stream",
     "text": [
      "(20642, 14)\n",
      "(21427, 14)\n",
      "(21158, 14)\n"
     ]
    }
   ],
   "source": [
    "#import accountability_indicators_data\n",
    "accountability_indicator_2022 = pd.read_excel('../data/Education 2021_24/Accountability Indicator Scores and Data for Schools/school_indicator_scores_suppressed_2022.xlsx')\n",
    "accountability_indicator_2023 = pd.read_excel('../data/Education 2021_24/Accountability Indicator Scores and Data for Schools/school_indicator_scores_suppressed_2023.xlsx')\n",
    "accountability_indicator_2024 = pd.read_excel('../data/Education 2021_24/Accountability Indicator Scores and Data for Schools/school_indicator_scores_suppressed_2024.xlsx')\n",
    "# add year column to accountability_indicator files\n",
    "accountability_indicator_2022['year']  = 2022\n",
    "accountability_indicator_2023['year']  = 2023\n",
    "accountability_indicator_2024['year']  = 2024\n",
    "\n",
    "print(accountability_indicator_2022.shape)\n",
    "print(accountability_indicator_2023.shape)\n",
    "print(accountability_indicator_2024.shape)\n"
   ]
  },
  {
   "cell_type": "code",
   "execution_count": 90,
   "id": "603bafec-d11f-4819-bcc0-8ddadd7a203a",
   "metadata": {},
   "outputs": [
    {
     "data": {
      "text/html": [
       "<div>\n",
       "<style scoped>\n",
       "    .dataframe tbody tr th:only-of-type {\n",
       "        vertical-align: middle;\n",
       "    }\n",
       "\n",
       "    .dataframe tbody tr th {\n",
       "        vertical-align: top;\n",
       "    }\n",
       "\n",
       "    .dataframe thead th {\n",
       "        text-align: right;\n",
       "    }\n",
       "</style>\n",
       "<table border=\"1\" class=\"dataframe\">\n",
       "  <thead>\n",
       "    <tr style=\"text-align: right;\">\n",
       "      <th></th>\n",
       "      <th>system</th>\n",
       "      <th>system_name</th>\n",
       "      <th>school</th>\n",
       "      <th>school_name</th>\n",
       "      <th>pool</th>\n",
       "      <th>designation_ineligible</th>\n",
       "      <th>student_group</th>\n",
       "      <th>score_achievement</th>\n",
       "      <th>score_growth</th>\n",
       "      <th>score_absenteeism</th>\n",
       "      <th>score_grad</th>\n",
       "      <th>score_ready_grad</th>\n",
       "      <th>score_elpa</th>\n",
       "      <th>year</th>\n",
       "    </tr>\n",
       "  </thead>\n",
       "  <tbody>\n",
       "    <tr>\n",
       "      <th>0</th>\n",
       "      <td>10</td>\n",
       "      <td>Anderson County</td>\n",
       "      <td>2</td>\n",
       "      <td>Anderson County High School</td>\n",
       "      <td>HS</td>\n",
       "      <td>0.0</td>\n",
       "      <td>All Students</td>\n",
       "      <td>2.0</td>\n",
       "      <td>3.0</td>\n",
       "      <td>2.0</td>\n",
       "      <td>4.0</td>\n",
       "      <td>4.0</td>\n",
       "      <td>NaN</td>\n",
       "      <td>2022</td>\n",
       "    </tr>\n",
       "    <tr>\n",
       "      <th>1</th>\n",
       "      <td>10</td>\n",
       "      <td>Anderson County</td>\n",
       "      <td>2</td>\n",
       "      <td>Anderson County High School</td>\n",
       "      <td>HS</td>\n",
       "      <td>0.0</td>\n",
       "      <td>American Indian or Alaska Native</td>\n",
       "      <td>NaN</td>\n",
       "      <td>NaN</td>\n",
       "      <td>NaN</td>\n",
       "      <td>NaN</td>\n",
       "      <td>NaN</td>\n",
       "      <td>NaN</td>\n",
       "      <td>2022</td>\n",
       "    </tr>\n",
       "    <tr>\n",
       "      <th>2</th>\n",
       "      <td>10</td>\n",
       "      <td>Anderson County</td>\n",
       "      <td>2</td>\n",
       "      <td>Anderson County High School</td>\n",
       "      <td>HS</td>\n",
       "      <td>0.0</td>\n",
       "      <td>Asian</td>\n",
       "      <td>NaN</td>\n",
       "      <td>NaN</td>\n",
       "      <td>NaN</td>\n",
       "      <td>NaN</td>\n",
       "      <td>NaN</td>\n",
       "      <td>NaN</td>\n",
       "      <td>2022</td>\n",
       "    </tr>\n",
       "    <tr>\n",
       "      <th>3</th>\n",
       "      <td>10</td>\n",
       "      <td>Anderson County</td>\n",
       "      <td>2</td>\n",
       "      <td>Anderson County High School</td>\n",
       "      <td>HS</td>\n",
       "      <td>0.0</td>\n",
       "      <td>Black or African American</td>\n",
       "      <td>NaN</td>\n",
       "      <td>NaN</td>\n",
       "      <td>NaN</td>\n",
       "      <td>NaN</td>\n",
       "      <td>NaN</td>\n",
       "      <td>NaN</td>\n",
       "      <td>2022</td>\n",
       "    </tr>\n",
       "    <tr>\n",
       "      <th>4</th>\n",
       "      <td>10</td>\n",
       "      <td>Anderson County</td>\n",
       "      <td>2</td>\n",
       "      <td>Anderson County High School</td>\n",
       "      <td>HS</td>\n",
       "      <td>0.0</td>\n",
       "      <td>Black/Hispanic/Native American</td>\n",
       "      <td>NaN</td>\n",
       "      <td>2.0</td>\n",
       "      <td>4.0</td>\n",
       "      <td>NaN</td>\n",
       "      <td>NaN</td>\n",
       "      <td>NaN</td>\n",
       "      <td>2022</td>\n",
       "    </tr>\n",
       "  </tbody>\n",
       "</table>\n",
       "</div>"
      ],
      "text/plain": [
       "   system      system_name  school                  school_name pool  \\\n",
       "0      10  Anderson County       2  Anderson County High School   HS   \n",
       "1      10  Anderson County       2  Anderson County High School   HS   \n",
       "2      10  Anderson County       2  Anderson County High School   HS   \n",
       "3      10  Anderson County       2  Anderson County High School   HS   \n",
       "4      10  Anderson County       2  Anderson County High School   HS   \n",
       "\n",
       "   designation_ineligible                     student_group  \\\n",
       "0                     0.0                      All Students   \n",
       "1                     0.0  American Indian or Alaska Native   \n",
       "2                     0.0                             Asian   \n",
       "3                     0.0         Black or African American   \n",
       "4                     0.0    Black/Hispanic/Native American   \n",
       "\n",
       "   score_achievement  score_growth  score_absenteeism  score_grad  \\\n",
       "0                2.0           3.0                2.0         4.0   \n",
       "1                NaN           NaN                NaN         NaN   \n",
       "2                NaN           NaN                NaN         NaN   \n",
       "3                NaN           NaN                NaN         NaN   \n",
       "4                NaN           2.0                4.0         NaN   \n",
       "\n",
       "   score_ready_grad  score_elpa  year  \n",
       "0               4.0         NaN  2022  \n",
       "1               NaN         NaN  2022  \n",
       "2               NaN         NaN  2022  \n",
       "3               NaN         NaN  2022  \n",
       "4               NaN         NaN  2022  "
      ]
     },
     "execution_count": 90,
     "metadata": {},
     "output_type": "execute_result"
    }
   ],
   "source": [
    "# concatenate accountability indicator files \n",
    "accountability_indicators = pd.concat([accountability_indicator_2022, accountability_indicator_2023,accountability_indicator_2024], \n",
    "                                      ignore_index=True)\n",
    "accountability_indicators.head()\n"
   ]
  },
  {
   "cell_type": "code",
   "execution_count": 91,
   "id": "b3e1cb35-4d84-475a-850f-4887b63ee796",
   "metadata": {},
   "outputs": [
    {
     "data": {
      "text/plain": [
       "(63227, 14)"
      ]
     },
     "execution_count": 91,
     "metadata": {},
     "output_type": "execute_result"
    }
   ],
   "source": [
    "accountability_indicators.shape"
   ]
  },
  {
   "cell_type": "code",
   "execution_count": 92,
   "id": "56191e7a-a1a8-4576-b68c-2db4119094e4",
   "metadata": {},
   "outputs": [
    {
     "data": {
      "text/plain": [
       "1825"
      ]
     },
     "execution_count": 92,
     "metadata": {},
     "output_type": "execute_result"
    }
   ],
   "source": [
    "len(accountability_indicators['school_name'].unique())"
   ]
  },
  {
   "cell_type": "code",
   "execution_count": 93,
   "id": "0f5b5ef2-4945-4216-8146-30a4ea9b1fea",
   "metadata": {},
   "outputs": [
    {
     "ename": "SyntaxError",
     "evalue": "closing parenthesis ')' does not match opening parenthesis '[' (3883217333.py, line 1)",
     "output_type": "error",
     "traceback": [
      "\u001b[1;36m  Cell \u001b[1;32mIn[93], line 1\u001b[1;36m\u001b[0m\n\u001b[1;33m    len(accountability_indicators[['system_name'].unique())\u001b[0m\n\u001b[1;37m                                                          ^\u001b[0m\n\u001b[1;31mSyntaxError\u001b[0m\u001b[1;31m:\u001b[0m closing parenthesis ')' does not match opening parenthesis '['\n"
     ]
    }
   ],
   "source": [
    "len(accountability_indicators[['system_name'].unique())"
   ]
  },
  {
   "cell_type": "code",
   "execution_count": null,
   "id": "dfdc2941-a099-4dee-bc78-44a3b8e6062d",
   "metadata": {},
   "outputs": [],
   "source": [
    "accountability_indicators[['system_name','school_name']].value_counts()\n"
   ]
  },
  {
   "cell_type": "code",
   "execution_count": null,
   "id": "a3a08f88-912e-48b5-bbc1-3e493f72ea95",
   "metadata": {},
   "outputs": [],
   "source": [
    "accountability_indicators[['system','school']].value_counts()"
   ]
  },
  {
   "cell_type": "code",
   "execution_count": null,
   "id": "cadeaea6-2e9d-43c3-b11f-d04b8c76f7b8",
   "metadata": {},
   "outputs": [],
   "source": [
    "#create id column for accountability_indicators df\n",
    "accountability_indicators['id'] = accountability_indicators['system'].astype(str)+'_'+accountability_indicators['school'].astype(str)"
   ]
  },
  {
   "cell_type": "markdown",
   "id": "96315d9a-fffa-44f1-a387-70255d528e43",
   "metadata": {},
   "source": [
    "## accountablity metrics"
   ]
  },
  {
   "cell_type": "code",
   "execution_count": 98,
   "id": "1e3b7ada-f491-4f18-8f34-5164d0010b20",
   "metadata": {},
   "outputs": [
    {
     "name": "stdout",
     "output_type": "stream",
     "text": [
      "(43482, 18)\n",
      "(45359, 18)\n",
      "(45006, 18)\n",
      "(45022, 18)\n"
     ]
    }
   ],
   "source": [
    "# import school accountablity data\n",
    "accountablity_2021 = pd.read_excel('../data/Education 2021_24/Accountablity/school_level/school_release_file_suppressed_2021.xlsx')\n",
    "accountablity_2022 = pd.read_excel('../data/Education 2021_24/Accountablity/school_level/school_release_file_suppressed_2022.xlsx')\n",
    "accountablity_2023= pd.read_excel('../data/Education 2021_24/Accountablity/school_level/school_release_file_suppressed_2023.xlsx')\n",
    "accountablity_2024 = pd.read_excel('../data/Education 2021_24/Accountablity/school_level/school_release_file_suppressed_2024.xlsx')\n",
    "print(accountablity_2021.shape)\n",
    "print(accountablity_2022.shape)\n",
    "print(accountablity_2023.shape)\n",
    "print(accountablity_2024.shape)"
   ]
  },
  {
   "cell_type": "code",
   "execution_count": 104,
   "id": "9ce1192b-3023-4185-8a85-181c22d323ff",
   "metadata": {},
   "outputs": [
    {
     "data": {
      "text/plain": [
       "(178869, 18)"
      ]
     },
     "execution_count": 104,
     "metadata": {},
     "output_type": "execute_result"
    }
   ],
   "source": [
    "#Union all/ concatenate the data sets\n",
    "accountablity_subject = pd.concat([accountablity_2021,accountablity_2022,accountablity_2023,accountablity_2024], ignore_index = True)\n",
    "\n",
    "accountablity_subject.shape"
   ]
  },
  {
   "cell_type": "code",
   "execution_count": 106,
   "id": "76e19095-c77c-4252-b155-154d65531de6",
   "metadata": {},
   "outputs": [
    {
     "data": {
      "text/plain": [
       "(178869, 18)"
      ]
     },
     "execution_count": 106,
     "metadata": {},
     "output_type": "execute_result"
    }
   ],
   "source": [
    "accountablity_subject = accountablity_subject.dropna()\n",
    "accountablity_subject.shape"
   ]
  },
  {
   "cell_type": "code",
   "execution_count": 108,
   "id": "0126b183-5747-4d8c-81eb-dc0f94d8231c",
   "metadata": {},
   "outputs": [
    {
     "name": "stdout",
     "output_type": "stream",
     "text": [
      "<class 'pandas.core.frame.DataFrame'>\n",
      "RangeIndex: 178869 entries, 0 to 178868\n",
      "Data columns (total 18 columns):\n",
      " #   Column                     Non-Null Count   Dtype \n",
      "---  ------                     --------------   ----- \n",
      " 0   year                       178869 non-null  int64 \n",
      " 1   system                     178869 non-null  int64 \n",
      " 2   system_name                178869 non-null  object\n",
      " 3   school                     178869 non-null  int64 \n",
      " 4   school_name                178869 non-null  object\n",
      " 5   subject                    178869 non-null  object\n",
      " 6   grade                      178869 non-null  object\n",
      " 7   student_group              178869 non-null  object\n",
      " 8   valid_tests                178869 non-null  int64 \n",
      " 9   n_below                    178869 non-null  object\n",
      " 10  n_approaching              178869 non-null  object\n",
      " 11  n_met_expectations         178869 non-null  object\n",
      " 12  n_exceeded_expectations    178869 non-null  object\n",
      " 13  pct_below                  178869 non-null  object\n",
      " 14  pct_approaching            178869 non-null  object\n",
      " 15  pct_met_expectations       178869 non-null  object\n",
      " 16  pct_exceeded_expectations  178869 non-null  object\n",
      " 17  pct_met_exceeded           178869 non-null  object\n",
      "dtypes: int64(4), object(14)\n",
      "memory usage: 24.6+ MB\n"
     ]
    }
   ],
   "source": [
    "#check datatypes\n",
    "accountablity_subject.info()"
   ]
  },
  {
   "cell_type": "code",
   "execution_count": 228,
   "id": "33673ff7-a105-447e-9c6f-2bb3c64a0c45",
   "metadata": {},
   "outputs": [],
   "source": [
    "#convert expectation columns to numeric replace supression symbols with nan\n",
    "accountablity_subject['valid_tests'] = pd.to_numeric(accountablity_subject['valid_tests'], errors='coerce')\n",
    "accountablity_subject['n_below'] = pd.to_numeric(accountablity_subject['n_below'], errors='coerce')\n",
    "accountablity_subject['n_approaching'] = pd.to_numeric(accountablity_subject['n_approaching'], errors='coerce')\n",
    "accountablity_subject['n_met_expectations'] = pd.to_numeric(accountablity_subject['n_met_expectations'], errors='coerce')\n",
    "accountablity_subject['n_exceeded_expectations'] = pd.to_numeric(accountablity_subject['n_exceeded_expectations'], errors='coerce')"
   ]
  },
  {
   "cell_type": "code",
   "execution_count": 230,
   "id": "59b5219c-0faf-459e-88f9-78ede3bd5e81",
   "metadata": {},
   "outputs": [
    {
     "data": {
      "text/plain": [
       "(178869, 18)"
      ]
     },
     "execution_count": 230,
     "metadata": {},
     "output_type": "execute_result"
    }
   ],
   "source": [
    "accountablity_subject.shape"
   ]
  },
  {
   "cell_type": "code",
   "execution_count": 232,
   "id": "b221a136-904d-48f0-bf82-4106a4691e8b",
   "metadata": {},
   "outputs": [
    {
     "data": {
      "text/plain": [
       "(38636, 18)"
      ]
     },
     "execution_count": 232,
     "metadata": {},
     "output_type": "execute_result"
    }
   ],
   "source": [
    "#subset the data for n_met_expectation & n_exceeded_expectation non _ nan\n",
    "accountablity_all_achievement = accountablity_subject[(accountablity_subject['n_met_expectations'].notna()) & (accountablity_subject['n_exceeded_expectations'].notna())]\n",
    "accountablity_all_achievement.shape"
   ]
  },
  {
   "cell_type": "code",
   "execution_count": 200,
   "id": "57691657-dfd0-4c37-a592-bc76cee6c92c",
   "metadata": {},
   "outputs": [],
   "source": [
    "#aggregate for all subjects -- i am hoping sum function to igrone nan \n",
    "accountablity_all = (accountablity_all_achievement.groupby(['year', 'system', 'system_name', 'school', 'school_name','student_group',\n",
    "       'grade']).agg(valid_tests = ('valid_tests','sum'),\n",
    "                                n_below = ('n_below','sum'),\n",
    "                                n_approaching = ('n_approaching', 'sum'),                                \n",
    "                                 n_met_expectations = ('n_met_expectations','sum'),\n",
    "                                 n_exceeded_expectations = ('n_exceeded_expectations','sum'))).reset_index()"
   ]
  },
  {
   "cell_type": "code",
   "execution_count": 202,
   "id": "24b60c9e-8cfd-43c8-a8e9-bac28b002c30",
   "metadata": {},
   "outputs": [
    {
     "data": {
      "text/plain": [
       "(19966, 12)"
      ]
     },
     "execution_count": 202,
     "metadata": {},
     "output_type": "execute_result"
    }
   ],
   "source": [
    "accountablity_all.shape"
   ]
  },
  {
   "cell_type": "code",
   "execution_count": 204,
   "id": "e0e3cea5-25fa-4625-ab42-2daf77a7a0e1",
   "metadata": {},
   "outputs": [
    {
     "data": {
      "text/html": [
       "<div>\n",
       "<style scoped>\n",
       "    .dataframe tbody tr th:only-of-type {\n",
       "        vertical-align: middle;\n",
       "    }\n",
       "\n",
       "    .dataframe tbody tr th {\n",
       "        vertical-align: top;\n",
       "    }\n",
       "\n",
       "    .dataframe thead th {\n",
       "        text-align: right;\n",
       "    }\n",
       "</style>\n",
       "<table border=\"1\" class=\"dataframe\">\n",
       "  <thead>\n",
       "    <tr style=\"text-align: right;\">\n",
       "      <th></th>\n",
       "      <th>year</th>\n",
       "      <th>system</th>\n",
       "      <th>system_name</th>\n",
       "      <th>school</th>\n",
       "      <th>school_name</th>\n",
       "      <th>student_group</th>\n",
       "      <th>grade</th>\n",
       "      <th>valid_tests</th>\n",
       "      <th>n_below</th>\n",
       "      <th>n_approaching</th>\n",
       "      <th>n_met_expectations</th>\n",
       "      <th>n_exceeded_expectations</th>\n",
       "    </tr>\n",
       "  </thead>\n",
       "  <tbody>\n",
       "    <tr>\n",
       "      <th>0</th>\n",
       "      <td>2021</td>\n",
       "      <td>10</td>\n",
       "      <td>Anderson County</td>\n",
       "      <td>2</td>\n",
       "      <td>Anderson County High School</td>\n",
       "      <td>All Students</td>\n",
       "      <td>9th through 12th</td>\n",
       "      <td>240</td>\n",
       "      <td>56.0</td>\n",
       "      <td>101.0</td>\n",
       "      <td>66.0</td>\n",
       "      <td>17.0</td>\n",
       "    </tr>\n",
       "    <tr>\n",
       "      <th>1</th>\n",
       "      <td>2021</td>\n",
       "      <td>10</td>\n",
       "      <td>Anderson County</td>\n",
       "      <td>2</td>\n",
       "      <td>Anderson County High School</td>\n",
       "      <td>Black/Hispanic/Native American</td>\n",
       "      <td>9th through 12th</td>\n",
       "      <td>13</td>\n",
       "      <td>1.0</td>\n",
       "      <td>6.0</td>\n",
       "      <td>5.0</td>\n",
       "      <td>1.0</td>\n",
       "    </tr>\n",
       "  </tbody>\n",
       "</table>\n",
       "</div>"
      ],
      "text/plain": [
       "   year  system      system_name  school                  school_name  \\\n",
       "0  2021      10  Anderson County       2  Anderson County High School   \n",
       "1  2021      10  Anderson County       2  Anderson County High School   \n",
       "\n",
       "                    student_group             grade  valid_tests  n_below  \\\n",
       "0                    All Students  9th through 12th          240     56.0   \n",
       "1  Black/Hispanic/Native American  9th through 12th           13      1.0   \n",
       "\n",
       "   n_approaching  n_met_expectations  n_exceeded_expectations  \n",
       "0          101.0                66.0                     17.0  \n",
       "1            6.0                 5.0                      1.0  "
      ]
     },
     "execution_count": 204,
     "metadata": {},
     "output_type": "execute_result"
    }
   ],
   "source": [
    "accountablity_all.head(2)"
   ]
  },
  {
   "cell_type": "code",
   "execution_count": 206,
   "id": "32ad9f67-e5cd-4dfb-8d52-f129b6fd4e8a",
   "metadata": {},
   "outputs": [],
   "source": [
    "#create id column for accountability df\n",
    "accountablity_all['id'] = accountablity_all['system'].astype(str) + '_' +  accountablity_all['school'].astype(str)"
   ]
  },
  {
   "cell_type": "markdown",
   "id": "95e99564-f957-41af-8f9c-5414ccbf3ffc",
   "metadata": {},
   "source": [
    "## schools info"
   ]
  },
  {
   "cell_type": "code",
   "execution_count": 209,
   "id": "97fbf3e2-5f8d-45b7-be71-be1761a2c52a",
   "metadata": {},
   "outputs": [
    {
     "data": {
      "text/html": [
       "<div>\n",
       "<style scoped>\n",
       "    .dataframe tbody tr th:only-of-type {\n",
       "        vertical-align: middle;\n",
       "    }\n",
       "\n",
       "    .dataframe tbody tr th {\n",
       "        vertical-align: top;\n",
       "    }\n",
       "\n",
       "    .dataframe thead th {\n",
       "        text-align: right;\n",
       "    }\n",
       "</style>\n",
       "<table border=\"1\" class=\"dataframe\">\n",
       "  <thead>\n",
       "    <tr style=\"text-align: right;\">\n",
       "      <th></th>\n",
       "      <th>Unnamed: 0</th>\n",
       "      <th>Unnamed: 1</th>\n",
       "      <th>Region Name</th>\n",
       "      <th>School Name</th>\n",
       "      <th>Type</th>\n",
       "      <th>District</th>\n",
       "      <th>Principal</th>\n",
       "      <th>District No.</th>\n",
       "      <th>School Name.1</th>\n",
       "      <th>School No.</th>\n",
       "      <th>...</th>\n",
       "      <th>Status</th>\n",
       "      <th>Address 1</th>\n",
       "      <th>Address 1 City</th>\n",
       "      <th>Address 1 State</th>\n",
       "      <th>Address 1 Zipcode</th>\n",
       "      <th>Address 2</th>\n",
       "      <th>Phone 1</th>\n",
       "      <th>Phone 2</th>\n",
       "      <th>Fax</th>\n",
       "      <th>Email Address</th>\n",
       "    </tr>\n",
       "  </thead>\n",
       "  <tbody>\n",
       "    <tr>\n",
       "      <th>0</th>\n",
       "      <td>4ac4b72d-73b9-ef11-b8e8-000d3a10f6ae</td>\n",
       "      <td>75b2d0d8-6fb9-ef11-b8e8-7c1e5281f2f9</td>\n",
       "      <td>Accredited Online Schools</td>\n",
       "      <td>Abeka Academy</td>\n",
       "      <td>Private</td>\n",
       "      <td>Middle States Association-Commissions on Eleme...</td>\n",
       "      <td>Faith Anderson</td>\n",
       "      <td>99601</td>\n",
       "      <td>Abeka Academy</td>\n",
       "      <td>9600</td>\n",
       "      <td>...</td>\n",
       "      <td>Active</td>\n",
       "      <td>PO Box 17600\\n Pensacola, FL 32522</td>\n",
       "      <td>Pensacola</td>\n",
       "      <td>FL</td>\n",
       "      <td>32522</td>\n",
       "      <td>NaN</td>\n",
       "      <td>800-874-3592</td>\n",
       "      <td>NaN</td>\n",
       "      <td>NaN</td>\n",
       "      <td>customerservice@abeka.com</td>\n",
       "    </tr>\n",
       "  </tbody>\n",
       "</table>\n",
       "<p>1 rows × 26 columns</p>\n",
       "</div>"
      ],
      "text/plain": [
       "                             Unnamed: 0                            Unnamed: 1  \\\n",
       "0  4ac4b72d-73b9-ef11-b8e8-000d3a10f6ae  75b2d0d8-6fb9-ef11-b8e8-7c1e5281f2f9   \n",
       "\n",
       "                 Region Name    School Name     Type  \\\n",
       "0  Accredited Online Schools  Abeka Academy  Private   \n",
       "\n",
       "                                            District       Principal  \\\n",
       "0  Middle States Association-Commissions on Eleme...  Faith Anderson   \n",
       "\n",
       "   District No.  School Name.1  School No.  ...  Status  \\\n",
       "0         99601  Abeka Academy        9600  ...  Active   \n",
       "\n",
       "                            Address 1 Address 1 City Address 1 State  \\\n",
       "0  PO Box 17600\\n Pensacola, FL 32522      Pensacola              FL   \n",
       "\n",
       "  Address 1 Zipcode Address 2       Phone 1 Phone 2  Fax  \\\n",
       "0             32522       NaN  800-874-3592     NaN  NaN   \n",
       "\n",
       "               Email Address  \n",
       "0  customerservice@abeka.com  \n",
       "\n",
       "[1 rows x 26 columns]"
      ]
     },
     "execution_count": 209,
     "metadata": {},
     "output_type": "execute_result"
    }
   ],
   "source": [
    "#import school info data\n",
    "\n",
    "school_info = pd.read_csv(\"../data/Education 2021_24/TN-School-Directory.csv\")\n",
    "\n",
    "school_info.head(1)"
   ]
  },
  {
   "cell_type": "code",
   "execution_count": 211,
   "id": "bc796d67-8f02-45da-a28d-ad17a56e0828",
   "metadata": {},
   "outputs": [
    {
     "data": {
      "text/html": [
       "<div>\n",
       "<style scoped>\n",
       "    .dataframe tbody tr th:only-of-type {\n",
       "        vertical-align: middle;\n",
       "    }\n",
       "\n",
       "    .dataframe tbody tr th {\n",
       "        vertical-align: top;\n",
       "    }\n",
       "\n",
       "    .dataframe thead th {\n",
       "        text-align: right;\n",
       "    }\n",
       "</style>\n",
       "<table border=\"1\" class=\"dataframe\">\n",
       "  <thead>\n",
       "    <tr style=\"text-align: right;\">\n",
       "      <th></th>\n",
       "      <th>id</th>\n",
       "      <th>Address 1 Zipcode</th>\n",
       "    </tr>\n",
       "  </thead>\n",
       "  <tbody>\n",
       "    <tr>\n",
       "      <th>0</th>\n",
       "      <td>99601_9600</td>\n",
       "      <td>32522</td>\n",
       "    </tr>\n",
       "    <tr>\n",
       "      <th>1</th>\n",
       "      <td>99600_9661</td>\n",
       "      <td>85281</td>\n",
       "    </tr>\n",
       "    <tr>\n",
       "      <th>2</th>\n",
       "      <td>99600_9617</td>\n",
       "      <td>99201</td>\n",
       "    </tr>\n",
       "    <tr>\n",
       "      <th>3</th>\n",
       "      <td>99600_9621</td>\n",
       "      <td>63141</td>\n",
       "    </tr>\n",
       "    <tr>\n",
       "      <th>4</th>\n",
       "      <td>99601_9622</td>\n",
       "      <td>49103-1950</td>\n",
       "    </tr>\n",
       "  </tbody>\n",
       "</table>\n",
       "</div>"
      ],
      "text/plain": [
       "           id Address 1 Zipcode\n",
       "0  99601_9600             32522\n",
       "1  99600_9661             85281\n",
       "2  99600_9617             99201\n",
       "3  99600_9621             63141\n",
       "4  99601_9622        49103-1950"
      ]
     },
     "execution_count": 211,
     "metadata": {},
     "output_type": "execute_result"
    }
   ],
   "source": [
    "#create id column for school directory\n",
    "school_info['id'] = school_info['District No.'].astype(str) + '_' + school_info['School No.'].astype(str)\n",
    "#subset school info\n",
    "school_info_zip = school_info[['id','Address 1 Zipcode']]\n",
    "school_info_zip.head()"
   ]
  },
  {
   "cell_type": "code",
   "execution_count": 213,
   "id": "d3da3244-321d-49f0-a2ea-841b623db432",
   "metadata": {},
   "outputs": [
    {
     "data": {
      "text/plain": [
       "array(['37167'], dtype=object)"
      ]
     },
     "execution_count": 213,
     "metadata": {},
     "output_type": "execute_result"
    }
   ],
   "source": [
    "#merge district information zipcode\n",
    "accountability_zip = accountablity_all.merge(school_info_zip, on = 'id',  how = 'left')\n",
    "\n",
    "#check the join with known name\n",
    "accountability_zip[accountability_zip['school_name'] == 'Stewarts Creek High School']['Address 1 Zipcode'].unique()"
   ]
  },
  {
   "cell_type": "code",
   "execution_count": 215,
   "id": "2b99a81a-891f-4e6a-8732-4f71eebd280d",
   "metadata": {},
   "outputs": [
    {
     "data": {
      "text/plain": [
       "264"
      ]
     },
     "execution_count": 215,
     "metadata": {},
     "output_type": "execute_result"
    }
   ],
   "source": [
    "#check if all districts are matched\n",
    "len(accountability_zip[accountability_zip['Address 1 Zipcode'].isna()])\n"
   ]
  },
  {
   "cell_type": "code",
   "execution_count": 217,
   "id": "a48186b7-8534-4c88-8ab9-9adce9b34d7c",
   "metadata": {},
   "outputs": [],
   "source": [
    "#some schools are not matched zip codes\n",
    "#find another school directory to match all schools\n"
   ]
  },
  {
   "cell_type": "markdown",
   "id": "38031aa9-868c-44bd-aea4-bd3fbf28b42b",
   "metadata": {},
   "source": [
    "## calculate state achievement Rate\n",
    "percentage of students  whose score met expectations or exceeded expectations across all tested subjects"
   ]
  },
  {
   "cell_type": "code",
   "execution_count": 220,
   "id": "ad39d40e-625c-445a-90ea-7b2692f90dc2",
   "metadata": {},
   "outputs": [],
   "source": [
    "accountability_zip['achievement_rate'] = round((accountability_zip['n_met_expectations']+ \n",
    "                                         accountability_zip['n_exceeded_expectations'])*100 /  accountability_zip['valid_tests'],2)"
   ]
  },
  {
   "cell_type": "code",
   "execution_count": 222,
   "id": "e37884ee-5a23-4e05-a312-a79d0d7f2103",
   "metadata": {},
   "outputs": [
    {
     "data": {
      "text/html": [
       "<div>\n",
       "<style scoped>\n",
       "    .dataframe tbody tr th:only-of-type {\n",
       "        vertical-align: middle;\n",
       "    }\n",
       "\n",
       "    .dataframe tbody tr th {\n",
       "        vertical-align: top;\n",
       "    }\n",
       "\n",
       "    .dataframe thead th {\n",
       "        text-align: right;\n",
       "    }\n",
       "</style>\n",
       "<table border=\"1\" class=\"dataframe\">\n",
       "  <thead>\n",
       "    <tr style=\"text-align: right;\">\n",
       "      <th></th>\n",
       "      <th>year</th>\n",
       "      <th>system</th>\n",
       "      <th>system_name</th>\n",
       "      <th>school</th>\n",
       "      <th>school_name</th>\n",
       "      <th>student_group</th>\n",
       "      <th>grade</th>\n",
       "      <th>valid_tests</th>\n",
       "      <th>n_below</th>\n",
       "      <th>n_approaching</th>\n",
       "      <th>n_met_expectations</th>\n",
       "      <th>n_exceeded_expectations</th>\n",
       "      <th>id</th>\n",
       "      <th>Address 1 Zipcode</th>\n",
       "      <th>achievement_rate</th>\n",
       "    </tr>\n",
       "  </thead>\n",
       "  <tbody>\n",
       "    <tr>\n",
       "      <th>0</th>\n",
       "      <td>2021</td>\n",
       "      <td>10</td>\n",
       "      <td>Anderson County</td>\n",
       "      <td>2</td>\n",
       "      <td>Anderson County High School</td>\n",
       "      <td>All Students</td>\n",
       "      <td>9th through 12th</td>\n",
       "      <td>240</td>\n",
       "      <td>56.0</td>\n",
       "      <td>101.0</td>\n",
       "      <td>66.0</td>\n",
       "      <td>17.0</td>\n",
       "      <td>10_2</td>\n",
       "      <td>37716</td>\n",
       "      <td>34.58</td>\n",
       "    </tr>\n",
       "  </tbody>\n",
       "</table>\n",
       "</div>"
      ],
      "text/plain": [
       "   year  system      system_name  school                  school_name  \\\n",
       "0  2021      10  Anderson County       2  Anderson County High School   \n",
       "\n",
       "  student_group             grade  valid_tests  n_below  n_approaching  \\\n",
       "0  All Students  9th through 12th          240     56.0          101.0   \n",
       "\n",
       "   n_met_expectations  n_exceeded_expectations    id Address 1 Zipcode  \\\n",
       "0                66.0                     17.0  10_2             37716   \n",
       "\n",
       "   achievement_rate  \n",
       "0             34.58  "
      ]
     },
     "execution_count": 222,
     "metadata": {},
     "output_type": "execute_result"
    }
   ],
   "source": [
    "accountability_zip.head(1)"
   ]
  },
  {
   "cell_type": "code",
   "execution_count": 224,
   "id": "78b174f8-cd74-4ef9-91ca-71b88a40530b",
   "metadata": {},
   "outputs": [
    {
     "data": {
      "text/html": [
       "<div>\n",
       "<style scoped>\n",
       "    .dataframe tbody tr th:only-of-type {\n",
       "        vertical-align: middle;\n",
       "    }\n",
       "\n",
       "    .dataframe tbody tr th {\n",
       "        vertical-align: top;\n",
       "    }\n",
       "\n",
       "    .dataframe thead th {\n",
       "        text-align: right;\n",
       "    }\n",
       "</style>\n",
       "<table border=\"1\" class=\"dataframe\">\n",
       "  <thead>\n",
       "    <tr style=\"text-align: right;\">\n",
       "      <th></th>\n",
       "      <th>year</th>\n",
       "      <th>system</th>\n",
       "      <th>system_name</th>\n",
       "      <th>Address 1 Zipcode</th>\n",
       "      <th>student_group</th>\n",
       "      <th>grade</th>\n",
       "      <th>valid_tests</th>\n",
       "      <th>n_below</th>\n",
       "      <th>n_approaching</th>\n",
       "      <th>n_met_expectations</th>\n",
       "      <th>n_exceeded_expectations</th>\n",
       "      <th>achievement_rate</th>\n",
       "    </tr>\n",
       "  </thead>\n",
       "  <tbody>\n",
       "    <tr>\n",
       "      <th>0</th>\n",
       "      <td>2021</td>\n",
       "      <td>10</td>\n",
       "      <td>Anderson County</td>\n",
       "      <td>37705</td>\n",
       "      <td>All Students</td>\n",
       "      <td>3rd through 5th</td>\n",
       "      <td>410</td>\n",
       "      <td>59.0</td>\n",
       "      <td>150.0</td>\n",
       "      <td>147.0</td>\n",
       "      <td>54.0</td>\n",
       "      <td>49.02</td>\n",
       "    </tr>\n",
       "    <tr>\n",
       "      <th>1</th>\n",
       "      <td>2021</td>\n",
       "      <td>10</td>\n",
       "      <td>Anderson County</td>\n",
       "      <td>37705</td>\n",
       "      <td>Economically Disadvantaged</td>\n",
       "      <td>3rd through 5th</td>\n",
       "      <td>44</td>\n",
       "      <td>18.0</td>\n",
       "      <td>10.0</td>\n",
       "      <td>8.0</td>\n",
       "      <td>8.0</td>\n",
       "      <td>36.36</td>\n",
       "    </tr>\n",
       "    <tr>\n",
       "      <th>2</th>\n",
       "      <td>2021</td>\n",
       "      <td>10</td>\n",
       "      <td>Anderson County</td>\n",
       "      <td>37705</td>\n",
       "      <td>Super Subgroup</td>\n",
       "      <td>3rd through 5th</td>\n",
       "      <td>104</td>\n",
       "      <td>35.0</td>\n",
       "      <td>37.0</td>\n",
       "      <td>19.0</td>\n",
       "      <td>13.0</td>\n",
       "      <td>30.77</td>\n",
       "    </tr>\n",
       "    <tr>\n",
       "      <th>3</th>\n",
       "      <td>2021</td>\n",
       "      <td>10</td>\n",
       "      <td>Anderson County</td>\n",
       "      <td>37710</td>\n",
       "      <td>All Students</td>\n",
       "      <td>3rd through 5th</td>\n",
       "      <td>52</td>\n",
       "      <td>17.0</td>\n",
       "      <td>21.0</td>\n",
       "      <td>11.0</td>\n",
       "      <td>3.0</td>\n",
       "      <td>26.92</td>\n",
       "    </tr>\n",
       "    <tr>\n",
       "      <th>4</th>\n",
       "      <td>2021</td>\n",
       "      <td>10</td>\n",
       "      <td>Anderson County</td>\n",
       "      <td>37716</td>\n",
       "      <td>All Students</td>\n",
       "      <td>3rd through 5th</td>\n",
       "      <td>132</td>\n",
       "      <td>34.0</td>\n",
       "      <td>43.0</td>\n",
       "      <td>44.0</td>\n",
       "      <td>11.0</td>\n",
       "      <td>41.67</td>\n",
       "    </tr>\n",
       "  </tbody>\n",
       "</table>\n",
       "</div>"
      ],
      "text/plain": [
       "   year  system      system_name Address 1 Zipcode  \\\n",
       "0  2021      10  Anderson County             37705   \n",
       "1  2021      10  Anderson County             37705   \n",
       "2  2021      10  Anderson County             37705   \n",
       "3  2021      10  Anderson County             37710   \n",
       "4  2021      10  Anderson County             37716   \n",
       "\n",
       "                student_group            grade  valid_tests  n_below  \\\n",
       "0                All Students  3rd through 5th          410     59.0   \n",
       "1  Economically Disadvantaged  3rd through 5th           44     18.0   \n",
       "2              Super Subgroup  3rd through 5th          104     35.0   \n",
       "3                All Students  3rd through 5th           52     17.0   \n",
       "4                All Students  3rd through 5th          132     34.0   \n",
       "\n",
       "   n_approaching  n_met_expectations  n_exceeded_expectations  \\\n",
       "0          150.0               147.0                     54.0   \n",
       "1           10.0                 8.0                      8.0   \n",
       "2           37.0                19.0                     13.0   \n",
       "3           21.0                11.0                      3.0   \n",
       "4           43.0                44.0                     11.0   \n",
       "\n",
       "   achievement_rate  \n",
       "0             49.02  \n",
       "1             36.36  \n",
       "2             30.77  \n",
       "3             26.92  \n",
       "4             41.67  "
      ]
     },
     "execution_count": 224,
     "metadata": {},
     "output_type": "execute_result"
    }
   ],
   "source": [
    "#average achievement rate for disctricts for grade bands\n",
    "avg_achievement_rate = accountability_zip.groupby(['year', 'system', 'system_name','Address 1 Zipcode', 'student_group', 'grade']).agg(\n",
    "                        valid_tests = ('valid_tests', 'sum'),\n",
    "                        n_below = ('n_below', 'sum'),\n",
    "                        n_approaching = ('n_approaching','sum'),                        \n",
    "                        n_met_expectations = ('n_met_expectations','sum'),\n",
    "                        n_exceeded_expectations = ('n_exceeded_expectations','sum'),\n",
    "                     achievement_rate = ('achievement_rate','mean')).reset_index()\n",
    "avg_achievement_rate.head()\n",
    "   "
   ]
  },
  {
   "cell_type": "code",
   "execution_count": 234,
   "id": "a999549b-a129-403e-9b36-3d9163551437",
   "metadata": {},
   "outputs": [
    {
     "data": {
      "text/html": [
       "<div>\n",
       "<style scoped>\n",
       "    .dataframe tbody tr th:only-of-type {\n",
       "        vertical-align: middle;\n",
       "    }\n",
       "\n",
       "    .dataframe tbody tr th {\n",
       "        vertical-align: top;\n",
       "    }\n",
       "\n",
       "    .dataframe thead th {\n",
       "        text-align: right;\n",
       "    }\n",
       "</style>\n",
       "<table border=\"1\" class=\"dataframe\">\n",
       "  <thead>\n",
       "    <tr style=\"text-align: right;\">\n",
       "      <th></th>\n",
       "      <th>year</th>\n",
       "      <th>achievement_rate</th>\n",
       "    </tr>\n",
       "  </thead>\n",
       "  <tbody>\n",
       "    <tr>\n",
       "      <th>0</th>\n",
       "      <td>2021</td>\n",
       "      <td>36.605810</td>\n",
       "    </tr>\n",
       "    <tr>\n",
       "      <th>1</th>\n",
       "      <td>2022</td>\n",
       "      <td>36.411645</td>\n",
       "    </tr>\n",
       "    <tr>\n",
       "      <th>2</th>\n",
       "      <td>2023</td>\n",
       "      <td>36.761462</td>\n",
       "    </tr>\n",
       "    <tr>\n",
       "      <th>3</th>\n",
       "      <td>2024</td>\n",
       "      <td>37.069132</td>\n",
       "    </tr>\n",
       "  </tbody>\n",
       "</table>\n",
       "</div>"
      ],
      "text/plain": [
       "   year  achievement_rate\n",
       "0  2021         36.605810\n",
       "1  2022         36.411645\n",
       "2  2023         36.761462\n",
       "3  2024         37.069132"
      ]
     },
     "execution_count": 234,
     "metadata": {},
     "output_type": "execute_result"
    }
   ],
   "source": [
    "avg_achievement_rate_year = avg_achievement_rate.groupby('year')['achievement_rate'].mean().reset_index()\n",
    "avg_achievement_rate_year\n"
   ]
  },
  {
   "cell_type": "code",
   "execution_count": 240,
   "id": "5525bb1d-26e7-454b-8224-5a5640d5d9ae",
   "metadata": {},
   "outputs": [
    {
     "data": {
      "image/png": "[encoded data removed]",
      "text/plain": [
       "<Figure size 640x480 with 1 Axes>"
      ]
     },
     "metadata": {},
     "output_type": "display_data"
    }
   ],
   "source": [
    "# Create figure and axis\n",
    "fig, ax = plt.subplots()\n",
    "\n",
    "# Plot bars\n",
    "bars = ax.bar(avg_achievement_rate_year['year'], avg_achievement_rate_year['achievement_rate'])\n",
    "\n",
    "# Annotate each bar with achievement rate\n",
    "for bar in bars:\n",
    "    ax.text(\n",
    "        bar.get_x() + bar.get_width() / 2,  # X-position (center of bar)\n",
    "        bar.get_height(),  # Y-position (height of the bar)\n",
    "        f\"{bar.get_height():.1f}%\",  # Label text with one decimal place\n",
    "        ha='center', va='bottom', fontsize=12, fontweight='bold', color='black'\n",
    "    )\n",
    "\n",
    "# Labels and title\n",
    "ax.set_xlabel(\"Year\")\n",
    "ax.set_ylabel(\"Achievement Rate (%)\")\n",
    "ax.set_title(\"Overall Achievement Rate\")\n",
    "\n",
    "plt.show()"
   ]
  },
  {
   "cell_type": "code",
   "execution_count": 334,
   "id": "61045645-ddee-4d8b-9abc-34d41469631d",
   "metadata": {},
   "outputs": [
    {
     "data": {
      "text/html": [
       "<div>\n",
       "<style scoped>\n",
       "    .dataframe tbody tr th:only-of-type {\n",
       "        vertical-align: middle;\n",
       "    }\n",
       "\n",
       "    .dataframe tbody tr th {\n",
       "        vertical-align: top;\n",
       "    }\n",
       "\n",
       "    .dataframe thead th {\n",
       "        text-align: right;\n",
       "    }\n",
       "</style>\n",
       "<table border=\"1\" class=\"dataframe\">\n",
       "  <thead>\n",
       "    <tr style=\"text-align: right;\">\n",
       "      <th></th>\n",
       "      <th>system_name</th>\n",
       "      <th>achievement_rate</th>\n",
       "    </tr>\n",
       "  </thead>\n",
       "  <tbody>\n",
       "    <tr>\n",
       "      <th>4</th>\n",
       "      <td>Arlington</td>\n",
       "      <td>51.465882</td>\n",
       "    </tr>\n",
       "    <tr>\n",
       "      <th>140</th>\n",
       "      <td>Williamson County</td>\n",
       "      <td>50.529382</td>\n",
       "    </tr>\n",
       "    <tr>\n",
       "      <th>26</th>\n",
       "      <td>Collierville</td>\n",
       "      <td>50.422870</td>\n",
       "    </tr>\n",
       "    <tr>\n",
       "      <th>23</th>\n",
       "      <td>Clinton</td>\n",
       "      <td>48.893750</td>\n",
       "    </tr>\n",
       "    <tr>\n",
       "      <th>43</th>\n",
       "      <td>Germantown</td>\n",
       "      <td>48.260000</td>\n",
       "    </tr>\n",
       "  </tbody>\n",
       "</table>\n",
       "</div>"
      ],
      "text/plain": [
       "           system_name  achievement_rate\n",
       "4            Arlington         51.465882\n",
       "140  Williamson County         50.529382\n",
       "26        Collierville         50.422870\n",
       "23             Clinton         48.893750\n",
       "43          Germantown         48.260000"
      ]
     },
     "execution_count": 334,
     "metadata": {},
     "output_type": "execute_result"
    }
   ],
   "source": [
    "#achievement rate by districts for 2024\n",
    "avg_achievement_rate_24 = avg_achievement_rate[avg_achievement_rate['year'] == 2024]\n",
    "\n",
    "avg_achievement_rate_district = (\n",
    "    avg_achievement_rate_24.groupby('system_name')['achievement_rate']\n",
    "    .mean()\n",
    "    .reset_index()\n",
    "    .sort_values(by = 'achievement_rate', ascending = False)\n",
    ")\n",
    "\n",
    "avg_achievement_rate_district.head()"
   ]
  },
  {
   "cell_type": "code",
   "execution_count": 348,
   "id": "e4cf2714-89d4-49c4-8a31-73c1a335057d",
   "metadata": {},
   "outputs": [
    {
     "data": {
      "image/png": "[encoded data removed]",
      "text/plain": [
       "<Figure size 1000x600 with 1 Axes>"
      ]
     },
     "metadata": {},
     "output_type": "display_data"
    }
   ],
   "source": [
    "data_largest = avg_achievement_rate_district.head(10)\n",
    "\n",
    "# Create figure and axis\n",
    "fig, ax = plt.subplots(figsize=(10, 6))\n",
    "\n",
    "# Plot bars\n",
    "bars = ax.bar(data_largest['system_name'], data_largest['achievement_rate'])\n",
    "\n",
    "# Annotate each bar with achievement rate\n",
    "for bar in bars:\n",
    "    ax.text(\n",
    "        bar.get_x() + bar.get_width() / 2,  # X-position (center of bar)\n",
    "        bar.get_height(),  # Y-position (height of the bar)\n",
    "        f\"{bar.get_height():.1f}%\",  # Label text with one decimal place\n",
    "        ha='center', va='bottom', fontsize=10, fontweight='bold', color='black'\n",
    "    )\n",
    "\n",
    "# Labels and title\n",
    "ax.set_xlabel(\"District\")\n",
    "ax.set_ylabel(\"Achievement Rate (%)\")\n",
    "ax.set_title(\"Top Ten Achievement Rates by District (2024)\")\n",
    "\n",
    "# Rotate x-axis labels for better readability\n",
    "plt.xticks(rotation=45, ha='right')\n",
    "\n",
    "plt.show()"
   ]
  },
  {
   "cell_type": "code",
   "execution_count": 350,
   "id": "a2c33839-89f3-4b24-b0bc-95c223b1ac7b",
   "metadata": {},
   "outputs": [
    {
     "data": {
      "image/png": "[encoded data removed]",
      "text/plain": [
       "<Figure size 1000x600 with 1 Axes>"
      ]
     },
     "metadata": {},
     "output_type": "display_data"
    }
   ],
   "source": [
    "data_smallest = avg_achievement_rate_district.tail(10)\n",
    "\n",
    "# Create figure and axis\n",
    "fig, ax = plt.subplots(figsize=(10, 6))\n",
    "\n",
    "# Plot bars\n",
    "bars = ax.bar(data_smallest['system_name'], data_smallest['achievement_rate'])\n",
    "\n",
    "# Annotate each bar with achievement rate\n",
    "for bar in bars:\n",
    "    ax.text(\n",
    "        bar.get_x() + bar.get_width() / 2,  # X-position (center of bar)\n",
    "        bar.get_height(),  # Y-position (height of the bar)\n",
    "        f\"{bar.get_height():.1f}%\",  # Label text with one decimal place\n",
    "        ha='center', va='bottom', fontsize=10, fontweight='bold', color='black'\n",
    "    )\n",
    "\n",
    "# Labels and title\n",
    "ax.set_xlabel(\"District\")\n",
    "ax.set_ylabel(\"Achievement Rate (%)\")\n",
    "ax.set_title(\"Bottom Ten Achievement Rates by District (2024)\")\n",
    "\n",
    "# Rotate x-axis labels for better readability\n",
    "plt.xticks(rotation=45, ha='right')\n",
    "\n",
    "plt.show()"
   ]
  },
  {
   "cell_type": "code",
   "execution_count": null,
   "id": "5454366a-5f8b-489d-8b1b-d91eea0d2c38",
   "metadata": {},
   "outputs": [],
   "source": [
    "#add shade map"
   ]
  },
  {
   "cell_type": "code",
   "execution_count": 399,
   "id": "53712c8f-1449-4c54-b892-202ea1c95c75",
   "metadata": {},
   "outputs": [],
   "source": [
    "#average achievement rate for districts for student groups\n",
    "student_groups = avg_achievement_rate[avg_achievement_rate['student_group']!='All Students']\n",
    "avg_achievement_rate_groups = (\n",
    "    student_groups.groupby(['year', 'student_group'])['achievement_rate']\n",
    "    .mean()\n",
    "    .sort_values(ascending=False)  # Remove `by='achievement_rate'`\n",
    "    .reset_index()\n",
    ")\n"
   ]
  },
  {
   "cell_type": "code",
   "execution_count": 401,
   "id": "0b190985-bbef-42f8-92e7-64008096f68e",
   "metadata": {},
   "outputs": [
    {
     "data": {
      "text/plain": [
       "<BarContainer object of 20 artists>"
      ]
     },
     "execution_count": 401,
     "metadata": {},
     "output_type": "execute_result"
    },
    {
     "data": {
      "image/png": "[encoded data removed]",
      "text/plain": [
       "<Figure size 640x480 with 1 Axes>"
      ]
     },
     "metadata": {},
     "output_type": "display_data"
    }
   ],
   "source": [
    "plt.barh(avg_achievement_rate_groups['student_group'], avg_achievement_rate_groups['achievement_rate'])"
   ]
  },
  {
   "cell_type": "code",
   "execution_count": null,
   "id": "3b5d1957-0b3c-4bed-86e7-7e431a5bb94d",
   "metadata": {},
   "outputs": [],
   "source": [
    "# Does the performance show similarity across all grade bands?"
   ]
  },
  {
   "cell_type": "markdown",
   "id": "3d737017-1d6b-4db4-97eb-e41fdf1ada18",
   "metadata": {
    "jp-MarkdownHeadingCollapsed": true
   },
   "source": [
    "# student issues\n",
    "### discipline VS achievement\n",
    "### attendance VS achievement"
   ]
  },
  {
   "cell_type": "markdown",
   "id": "f3ec868f-644e-41ad-b96f-529c01cd40be",
   "metadata": {
    "jp-MarkdownHeadingCollapsed": true
   },
   "source": [
    "# school issues\n",
    "### staff metrics"
   ]
  },
  {
   "cell_type": "markdown",
   "id": "63e97aea-befd-4ea1-8c33-4a4a1f2b0a80",
   "metadata": {
    "jp-MarkdownHeadingCollapsed": true
   },
   "source": [
    "# district\n",
    "### crime\n",
    "### population density"
   ]
  },
  {
   "cell_type": "code",
   "execution_count": null,
   "id": "aed8874d-9f4b-4af2-a933-2a5430e82aee",
   "metadata": {},
   "outputs": [],
   "source": []
  }
 ],
 "metadata": {
  "kernelspec": {
   "display_name": "Python [conda env:base] *",
   "language": "python",
   "name": "conda-base-py"
  },
  "language_info": {
   "codemirror_mode": {
    "name": "ipython",
    "version": 3
   },
   "file_extension": ".py",
   "mimetype": "text/x-python",
   "name": "python",
   "nbconvert_exporter": "python",
   "pygments_lexer": "ipython3",
   "version": "3.12.7"
  }
 },
 "nbformat": 4,
 "nbformat_minor": 5
}
