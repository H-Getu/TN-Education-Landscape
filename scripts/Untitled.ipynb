{
 "cells": [
  {
   "cell_type": "code",
   "execution_count": 1,
   "id": "7b0884f8-ffe4-4b75-bd17-2000718e0f45",
   "metadata": {},
   "outputs": [],
   "source": [
    "import numpy as np\n",
    "import pandas as pd\n",
    "import matplotlib.pyplot as plt\n",
    "import seaborn as sns\n",
    "import re\n",
    "pd.set_option('display.max_rows', None)\n",
    "pd.set_option('display.max_columns', None)\n",
    "pd.set_option('display.width', None)"
   ]
  },
  {
   "cell_type": "code",
   "execution_count": 3,
   "id": "2a65dad9-8a1d-4957-a57f-d4e013fe86f9",
   "metadata": {},
   "outputs": [],
   "source": [
    "school_directory = pd.read_csv(\"../data/Education 2021_24/TN-School-Directory.csv\")"
   ]
  },
  {
   "cell_type": "code",
   "execution_count": 13,
   "id": "40bfe727-aeab-4795-ae74-327469b14c21",
   "metadata": {},
   "outputs": [],
   "source": [
    "school_count = school_directory.groupby(['District','District No.'])['School No.'].nunique().reset_index()\n",
    "school_count.to_csv(\"../presetation/count_school.csv\")"
   ]
  },
  {
   "cell_type": "code",
   "execution_count": null,
   "id": "b3ae6ce2-3a22-498f-93b9-468ddfbaa1cd",
   "metadata": {},
   "outputs": [],
   "source": []
  }
 ],
 "metadata": {
  "kernelspec": {
   "display_name": "Python [conda env:base] *",
   "language": "python",
   "name": "conda-base-py"
  },
  "language_info": {
   "codemirror_mode": {
    "name": "ipython",
    "version": 3
   },
   "file_extension": ".py",
   "mimetype": "text/x-python",
   "name": "python",
   "nbconvert_exporter": "python",
   "pygments_lexer": "ipython3",
   "version": "3.12.7"
  }
 },
 "nbformat": 4,
 "nbformat_minor": 5
}
